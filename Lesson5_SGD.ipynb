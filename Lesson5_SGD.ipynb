{
  "nbformat": 4,
  "nbformat_minor": 0,
  "metadata": {
    "colab": {
      "name": "Lesson5_SGD.ipynb",
      "provenance": [],
      "toc_visible": true,
      "authorship_tag": "ABX9TyN+4LmdKx/Zjapb9CLg5m4s",
      "include_colab_link": true
    },
    "kernelspec": {
      "name": "python3",
      "display_name": "Python 3"
    },
    "accelerator": "GPU"
  },
  "cells": [
    {
      "cell_type": "markdown",
      "metadata": {
        "id": "view-in-github",
        "colab_type": "text"
      },
      "source": [
        "<a href=\"https://colab.research.google.com/github/anuva05/PracticalDeepLearningCourse/blob/master/Lesson5_SGD.ipynb\" target=\"_parent\"><img src=\"https://colab.research.google.com/assets/colab-badge.svg\" alt=\"Open In Colab\"/></a>"
      ]
    },
    {
      "cell_type": "code",
      "metadata": {
        "id": "97SjBcFuuWNh",
        "colab_type": "code",
        "colab": {}
      },
      "source": [
        "%matplotlib inline\n",
        "from fastai.basics import *"
      ],
      "execution_count": 0,
      "outputs": []
    },
    {
      "cell_type": "markdown",
      "metadata": {
        "id": "hqr6h_VIuWNl",
        "colab_type": "text"
      },
      "source": [
        "## MNIST SGD"
      ]
    },
    {
      "cell_type": "markdown",
      "metadata": {
        "id": "UT8KMrNWuWNm",
        "colab_type": "text"
      },
      "source": [
        "Get the 'pickled' MNIST dataset from http://deeplearning.net/data/mnist/mnist.pkl.gz. We're going to treat it as a standard flat dataset with fully connected layers, rather than using a CNN."
      ]
    },
    {
      "cell_type": "code",
      "metadata": {
        "id": "CtfU30qfuWNn",
        "colab_type": "code",
        "colab": {}
      },
      "source": [
        "path = Config.data_path()\n",
        "folder='mnist'\n",
        "dest = path/folder\n",
        "dest.mkdir(parents=True, exist_ok=True)\n",
        "\n",
        "\n",
        "#Now, download the dataset and upload it to the Colab runtime environment\n",
        "#Then, run the following \n",
        "\n",
        "!mv mnist.pkl.gz {dest}"
      ],
      "execution_count": 0,
      "outputs": []
    },
    {
      "cell_type": "code",
      "metadata": {
        "id": "9tNGu6XXuWNr",
        "colab_type": "code",
        "outputId": "5fa9fbab-54e8-43de-ec78-0aa844b987a8",
        "colab": {
          "base_uri": "https://localhost:8080/",
          "height": 34
        }
      },
      "source": [
        "path = dest \n",
        "path.ls()"
      ],
      "execution_count": 3,
      "outputs": [
        {
          "output_type": "execute_result",
          "data": {
            "text/plain": [
              "[PosixPath('/root/.fastai/data/mnist/mnist.pkl.gz')]"
            ]
          },
          "metadata": {
            "tags": []
          },
          "execution_count": 3
        }
      ]
    },
    {
      "cell_type": "code",
      "metadata": {
        "id": "7w70q0fPuWNu",
        "colab_type": "code",
        "colab": {}
      },
      "source": [
        "#Open the pickled dataset\n",
        "with gzip.open(path/'mnist.pkl.gz', 'rb') as f:\n",
        "    ((x_train, y_train), (x_valid, y_valid), _) = pickle.load(f, encoding='latin-1')"
      ],
      "execution_count": 0,
      "outputs": []
    },
    {
      "cell_type": "code",
      "metadata": {
        "id": "rq0X27TAuWNx",
        "colab_type": "code",
        "outputId": "9261383a-fa7a-47dd-87eb-64511e46ed1d",
        "colab": {
          "base_uri": "https://localhost:8080/",
          "height": 282
        }
      },
      "source": [
        "plt.imshow(x_train[0].reshape((28,28)), cmap=\"gray\")\n",
        "x_train.shape"
      ],
      "execution_count": 5,
      "outputs": [
        {
          "output_type": "execute_result",
          "data": {
            "text/plain": [
              "(50000, 784)"
            ]
          },
          "metadata": {
            "tags": []
          },
          "execution_count": 5
        },
        {
          "output_type": "display_data",
          "data": {
            "image/png": "[encoded data removed]",
            "text/plain": [
              "<Figure size 432x288 with 1 Axes>"
            ]
          },
          "metadata": {
            "tags": []
          }
        }
      ]
    },
    {
      "cell_type": "code",
      "metadata": {
        "id": "qF81LxvzuWN0",
        "colab_type": "code",
        "outputId": "94d050e2-5574-4dec-f577-a4236a05b31a",
        "colab": {
          "base_uri": "https://localhost:8080/",
          "height": 34
        }
      },
      "source": [
        "x_train,y_train,x_valid,y_valid = map(torch.tensor, (x_train,y_train,x_valid,y_valid))\n",
        "n,c = x_train.shape\n",
        "x_train.shape, y_train.min(), y_train.max()"
      ],
      "execution_count": 6,
      "outputs": [
        {
          "output_type": "execute_result",
          "data": {
            "text/plain": [
              "(torch.Size([50000, 784]), tensor(0), tensor(9))"
            ]
          },
          "metadata": {
            "tags": []
          },
          "execution_count": 6
        }
      ]
    },
    {
      "cell_type": "markdown",
      "metadata": {
        "id": "dqBmE1uEuWN3",
        "colab_type": "text"
      },
      "source": [
        "In lesson2-sgd we implemented:\n",
        "\n",
        "```python\n",
        "x = torch.ones(n,2) \n",
        "def mse(y_hat, y): return ((y_hat-y)**2).mean()\n",
        "y_hat = x@a\n",
        "```\n",
        "\n",
        "In this lesson, we use PyTorch's functions to do it for us, and also to handle mini-batches."
      ]
    },
    {
      "cell_type": "code",
      "metadata": {
        "id": "3C16MioWuWN4",
        "colab_type": "code",
        "colab": {}
      },
      "source": [
        "bs=64 #batch size\n",
        "train_ds = TensorDataset(x_train, y_train)\n",
        "valid_ds = TensorDataset(x_valid, y_valid)\n",
        "#The next line creates an iterator that gives you the next minibatch when asked for 'next'\n",
        "data = DataBunch.create(train_ds, valid_ds, bs=bs)"
      ],
      "execution_count": 0,
      "outputs": []
    },
    {
      "cell_type": "code",
      "metadata": {
        "id": "VTCvaOyFuWN8",
        "colab_type": "code",
        "outputId": "398a7a75-3251-4c8f-8186-ac12c862a20e",
        "colab": {
          "base_uri": "https://localhost:8080/",
          "height": 34
        }
      },
      "source": [
        "#To get the next batch of size bs \n",
        "x,y = next(iter(data.train_dl))\n",
        "x.shape,y.shape"
      ],
      "execution_count": 8,
      "outputs": [
        {
          "output_type": "execute_result",
          "data": {
            "text/plain": [
              "(torch.Size([64, 784]), torch.Size([64]))"
            ]
          },
          "metadata": {
            "tags": []
          },
          "execution_count": 8
        }
      ]
    },
    {
      "cell_type": "code",
      "metadata": {
        "id": "VQ01yMXzuWN-",
        "colab_type": "code",
        "colab": {}
      },
      "source": [
        "#Create a nn.Module and overwrite the constructor to\n",
        "#create a linear layer that will compute x@a + b for input matrix x.\n",
        "class Mnist_Logistic(nn.Module):\n",
        "    def __init__(self):\n",
        "        super().__init__()\n",
        "        self.lin = nn.Linear(784, 10, bias=True)\n",
        "\n",
        "    def forward(self, xb): return self.lin(xb)"
      ],
      "execution_count": 0,
      "outputs": []
    },
    {
      "cell_type": "code",
      "metadata": {
        "id": "07mlnKRruWOB",
        "colab_type": "code",
        "colab": {}
      },
      "source": [
        "#Explicitly specify using GPUs, copy data\n",
        "model = Mnist_Logistic().cuda()"
      ],
      "execution_count": 0,
      "outputs": []
    },
    {
      "cell_type": "code",
      "metadata": {
        "id": "J22eG-gquWOF",
        "colab_type": "code",
        "outputId": "8f913b95-265b-4d7f-b335-59c4a3bbc314",
        "colab": {
          "base_uri": "https://localhost:8080/",
          "height": 68
        }
      },
      "source": [
        "model"
      ],
      "execution_count": 11,
      "outputs": [
        {
          "output_type": "execute_result",
          "data": {
            "text/plain": [
              "Mnist_Logistic(\n",
              "  (lin): Linear(in_features=784, out_features=10, bias=True)\n",
              ")"
            ]
          },
          "metadata": {
            "tags": []
          },
          "execution_count": 11
        }
      ]
    },
    {
      "cell_type": "code",
      "metadata": {
        "id": "LduQ2NoauWOL",
        "colab_type": "code",
        "outputId": "fc268644-c45d-4606-87f6-faf7fe7ccebe",
        "colab": {
          "base_uri": "https://localhost:8080/",
          "height": 34
        }
      },
      "source": [
        "model.lin"
      ],
      "execution_count": 12,
      "outputs": [
        {
          "output_type": "execute_result",
          "data": {
            "text/plain": [
              "Linear(in_features=784, out_features=10, bias=True)"
            ]
          },
          "metadata": {
            "tags": []
          },
          "execution_count": 12
        }
      ]
    },
    {
      "cell_type": "code",
      "metadata": {
        "id": "c1MUHoH5uWOP",
        "colab_type": "code",
        "outputId": "99beb6f1-30e5-41c5-9366-5df49eec356e",
        "colab": {
          "base_uri": "https://localhost:8080/",
          "height": 34
        }
      },
      "source": [
        "model(x).shape"
      ],
      "execution_count": 13,
      "outputs": [
        {
          "output_type": "execute_result",
          "data": {
            "text/plain": [
              "torch.Size([64, 10])"
            ]
          },
          "metadata": {
            "tags": []
          },
          "execution_count": 13
        }
      ]
    },
    {
      "cell_type": "code",
      "metadata": {
        "id": "WbW3bmE1uWOR",
        "colab_type": "code",
        "outputId": "d0c1f1f8-cc24-4b13-fbd0-8f68b671272c",
        "colab": {
          "base_uri": "https://localhost:8080/",
          "height": 34
        }
      },
      "source": [
        "#The parameters contains weights and biases. the 10x784 entity is the matrix to be multiplied\n",
        "# and the other quantity has 10 activations which we want to add our biases to\n",
        "[p.shape for p in model.parameters()]"
      ],
      "execution_count": 14,
      "outputs": [
        {
          "output_type": "execute_result",
          "data": {
            "text/plain": [
              "[torch.Size([10, 784]), torch.Size([10])]"
            ]
          },
          "metadata": {
            "tags": []
          },
          "execution_count": 14
        }
      ]
    },
    {
      "cell_type": "code",
      "metadata": {
        "id": "-iab1zJjuWOU",
        "colab_type": "code",
        "colab": {}
      },
      "source": [
        "lr=2e-2"
      ],
      "execution_count": 0,
      "outputs": []
    },
    {
      "cell_type": "markdown",
      "metadata": {
        "id": "xKFGmuuowgOB",
        "colab_type": "text"
      },
      "source": [
        "The loss for wrongly recognizing a digit cannot be quantified using MSE. Identifying a '3' as a '4' is just as wrong as identifying it as a '5'. Hence, we will use Cross Entropy Loss as the loss function here. "
      ]
    },
    {
      "cell_type": "code",
      "metadata": {
        "id": "eObWEY7xuWOW",
        "colab_type": "code",
        "colab": {}
      },
      "source": [
        "#nn.CrossEntropyloss includes a SoftMax function so that predictions are in range [0,1] and\n",
        "#sum upto 1\n",
        "loss_func = nn.CrossEntropyLoss() "
      ],
      "execution_count": 0,
      "outputs": []
    },
    {
      "cell_type": "markdown",
      "metadata": {
        "id": "MzgJQOvHx8Kp",
        "colab_type": "text"
      },
      "source": [
        "Next, we write the weight update function. We also implement weight decay in it, which prevents the weights from growing too large, which in turn helps our model generalize better. "
      ]
    },
    {
      "cell_type": "code",
      "metadata": {
        "id": "yZOPcF3yuWOY",
        "colab_type": "code",
        "colab": {}
      },
      "source": [
        "def update(x,y,lr):\n",
        "    wd = 1e-5\n",
        "    y_hat = model(x)\n",
        "    # weight decay\n",
        "    w2 = 0.\n",
        "    for p in model.parameters(): w2 += (p**2).sum()\n",
        "    #Implement weight decay:add to regular loss\n",
        "    loss = loss_func(y_hat, y) + w2*wd\n",
        "    loss.backward()\n",
        "    with torch.no_grad():\n",
        "        for p in model.parameters():\n",
        "            p.sub_(lr * p.grad)\n",
        "            p.grad.zero_()\n",
        "    \n",
        "    #calling .item() on a tensor converts it to scalar Python number \n",
        "    return loss.item()"
      ],
      "execution_count": 0,
      "outputs": []
    },
    {
      "cell_type": "code",
      "metadata": {
        "id": "DLnRD8oCuWOc",
        "colab_type": "code",
        "colab": {}
      },
      "source": [
        "losses = [update(x,y,lr) for x,y in data.train_dl]"
      ],
      "execution_count": 0,
      "outputs": []
    },
    {
      "cell_type": "code",
      "metadata": {
        "id": "vz1XNRnuuWOf",
        "colab_type": "code",
        "outputId": "8c6079bb-878f-4888-e060-62d47f695c9e",
        "colab": {
          "base_uri": "https://localhost:8080/",
          "height": 265
        }
      },
      "source": [
        "plt.plot(losses);"
      ],
      "execution_count": 20,
      "outputs": [
        {
          "output_type": "display_data",
          "data": {
            "image/png": "[encoded data removed]",
            "text/plain": [
              "<Figure size 432x288 with 1 Axes>"
            ]
          },
          "metadata": {
            "tags": []
          }
        }
      ]
    },
    {
      "cell_type": "markdown",
      "metadata": {
        "id": "4_o6DkOl1L6b",
        "colab_type": "text"
      },
      "source": [
        "Loss is going down! That's a good sign. \n",
        "\n",
        "Another point to note- when taking gradient of loss wrt weights, since we added the weight decay term, we now realize that the gradient of that weight decay term is important. if it were a single weight, that gradient = 2 times wd times w wrt w.  THus, weight decay essentially subtracts a constant times the weight from the weight in each update step."
      ]
    },
    {
      "cell_type": "code",
      "metadata": {
        "id": "2U7m9kNIuWOi",
        "colab_type": "code",
        "colab": {}
      },
      "source": [
        "#If we add another linear layer..\n",
        "class Mnist_NN(nn.Module):\n",
        "    def __init__(self):\n",
        "        super().__init__()\n",
        "        self.lin1 = nn.Linear(784, 50, bias=True)\n",
        "        self.lin2 = nn.Linear(50, 10, bias=True)\n",
        "\n",
        "    def forward(self, xb):\n",
        "        x = self.lin1(xb)\n",
        "        x = F.relu(x)\n",
        "        return self.lin2(x)"
      ],
      "execution_count": 0,
      "outputs": []
    },
    {
      "cell_type": "code",
      "metadata": {
        "id": "OYJ08uyRuWOk",
        "colab_type": "code",
        "colab": {}
      },
      "source": [
        "model = Mnist_NN().cuda()"
      ],
      "execution_count": 0,
      "outputs": []
    },
    {
      "cell_type": "code",
      "metadata": {
        "id": "grt-6JaWuWOm",
        "colab_type": "code",
        "colab": {}
      },
      "source": [
        "losses = [update(x,y,lr) for x,y in data.train_dl]"
      ],
      "execution_count": 0,
      "outputs": []
    },
    {
      "cell_type": "code",
      "metadata": {
        "id": "mNWByk0EuWOo",
        "colab_type": "code",
        "outputId": "dec6152e-647b-4cf5-b7d3-8fa94fe5e8af",
        "colab": {
          "base_uri": "https://localhost:8080/",
          "height": 265
        }
      },
      "source": [
        "plt.plot(losses);"
      ],
      "execution_count": 24,
      "outputs": [
        {
          "output_type": "display_data",
          "data": {
            "image/png": "[encoded data removed]",
            "text/plain": [
              "<Figure size 432x288 with 1 Axes>"
            ]
          },
          "metadata": {
            "tags": []
          }
        }
      ]
    },
    {
      "cell_type": "code",
      "metadata": {
        "id": "UQDaudZcuWOq",
        "colab_type": "code",
        "colab": {}
      },
      "source": [
        "model = Mnist_NN().cuda()"
      ],
      "execution_count": 0,
      "outputs": []
    },
    {
      "cell_type": "markdown",
      "metadata": {
        "id": "ZGcZz_CZHva6",
        "colab_type": "text"
      },
      "source": [
        "Let's see how we can do it with the inbuilt optimizer functions instead. Using SGD to optimize would look like the snippet below. the ```opt.step()``` replaces the explicit update computation we did in the previous ```update()``` function. "
      ]
    },
    {
      "cell_type": "code",
      "metadata": {
        "id": "uovaQsXVuWOz",
        "colab_type": "code",
        "colab": {}
      },
      "source": [
        "def update(x,y,lr):\n",
        "    opt = optim.SGD(model.parameters(), lr)\n",
        "    y_hat = model(x)\n",
        "    loss = loss_func(y_hat, y)\n",
        "    loss.backward()\n",
        "    opt.step()\n",
        "    opt.zero_grad()\n",
        "    return loss.item()"
      ],
      "execution_count": 0,
      "outputs": []
    },
    {
      "cell_type": "code",
      "metadata": {
        "colab_type": "code",
        "id": "DNPFOAn7Ire-",
        "colab": {}
      },
      "source": [
        "losses = [update(x,y,1e-3) for x,y in data.train_dl]"
      ],
      "execution_count": 0,
      "outputs": []
    },
    {
      "cell_type": "code",
      "metadata": {
        "colab_type": "code",
        "outputId": "11fbd7d0-fd0b-429b-8f8f-bccb8e8784a4",
        "id": "4CsvEqmAIrfF",
        "colab": {
          "base_uri": "https://localhost:8080/",
          "height": 265
        }
      },
      "source": [
        "plt.plot(losses);"
      ],
      "execution_count": 28,
      "outputs": [
        {
          "output_type": "display_data",
          "data": {
            "image/png": "[encoded data removed]",
            "text/plain": [
              "<Figure size 432x288 with 1 Axes>"
            ]
          },
          "metadata": {
            "tags": []
          }
        }
      ]
    },
    {
      "cell_type": "markdown",
      "metadata": {
        "id": "N8-13gnxIFCm",
        "colab_type": "text"
      },
      "source": [
        "We can also use the Adam optimizer, like so: "
      ]
    },
    {
      "cell_type": "code",
      "metadata": {
        "id": "EuElhKGNIDWr",
        "colab_type": "code",
        "colab": {}
      },
      "source": [
        "def update(x,y,lr):\n",
        "    opt = optim.Adam(model.parameters(), lr)\n",
        "    y_hat = model(x)\n",
        "    loss = loss_func(y_hat, y)\n",
        "    loss.backward()\n",
        "    opt.step()\n",
        "    opt.zero_grad()\n",
        "    return loss.item()"
      ],
      "execution_count": 0,
      "outputs": []
    },
    {
      "cell_type": "code",
      "metadata": {
        "colab_type": "code",
        "id": "dM659s09IvD0",
        "colab": {}
      },
      "source": [
        "losses = [update(x,y,1e-3) for x,y in data.train_dl]"
      ],
      "execution_count": 0,
      "outputs": []
    },
    {
      "cell_type": "code",
      "metadata": {
        "colab_type": "code",
        "outputId": "2919a7ff-6a9b-4e78-e69c-adac785f7ed6",
        "id": "A3h_yVOLIvD3",
        "colab": {
          "base_uri": "https://localhost:8080/",
          "height": 265
        }
      },
      "source": [
        "plt.plot(losses);"
      ],
      "execution_count": 31,
      "outputs": [
        {
          "output_type": "display_data",
          "data": {
            "image/png": "[encoded data removed]",
            "text/plain": [
              "<Figure size 432x288 with 1 Axes>"
            ]
          },
          "metadata": {
            "tags": []
          }
        }
      ]
    },
    {
      "cell_type": "markdown",
      "metadata": {
        "id": "zslpQr1_IIm_",
        "colab_type": "text"
      },
      "source": [
        "We could also add weight decay, with a conservative parameter setting of 0.01: "
      ]
    },
    {
      "cell_type": "code",
      "metadata": {
        "id": "QK4_bYnBIL0Q",
        "colab_type": "code",
        "colab": {}
      },
      "source": [
        "def update(x,y,lr):\n",
        "    opt = optim.Adam(model.parameters(), lr, weight_decay=0.01)\n",
        "    y_hat = model(x)\n",
        "    loss = loss_func(y_hat, y)\n",
        "    loss.backward()\n",
        "    opt.step()\n",
        "    opt.zero_grad()\n",
        "    return loss.item()"
      ],
      "execution_count": 0,
      "outputs": []
    },
    {
      "cell_type": "code",
      "metadata": {
        "id": "mfRhTb4auWO4",
        "colab_type": "code",
        "colab": {}
      },
      "source": [
        "losses = [update(x,y,1e-3) for x,y in data.train_dl]"
      ],
      "execution_count": 0,
      "outputs": []
    },
    {
      "cell_type": "code",
      "metadata": {
        "id": "1Kfd2t0luWO7",
        "colab_type": "code",
        "outputId": "b9b91023-86db-4296-9427-de3aa2daf9f2",
        "colab": {
          "base_uri": "https://localhost:8080/",
          "height": 265
        }
      },
      "source": [
        "plt.plot(losses);"
      ],
      "execution_count": 34,
      "outputs": [
        {
          "output_type": "display_data",
          "data": {
            "image/png": "[encoded data removed]",
            "text/plain": [
              "<Figure size 432x288 with 1 Axes>"
            ]
          },
          "metadata": {
            "tags": []
          }
        }
      ]
    },
    {
      "cell_type": "markdown",
      "metadata": {
        "id": "__EfqKIqI_tl",
        "colab_type": "text"
      },
      "source": [
        "In the case of the last optimizer we used, the loss isn't looking so good. It looks like it is diverging.\n",
        "If this happens, the weights have gotten too big and it is hard to reduce them again, so we should start the training all over again."
      ]
    },
    {
      "cell_type": "markdown",
      "metadata": {
        "id": "-0drCM0mRJTG",
        "colab_type": "text"
      },
      "source": [
        "If the SGD is not converging quick enough, we can add momentum to it, which basically changest the learning rate so that the convergence is sped up. Usually, momentum is set to 0.9.\n",
        "\n",
        " RMS Prop is popular and is exponentially weighted average of the gradient squared. If the gradient is small and continues to be small, this number will be small (and the jump is bigger) . If the gradient is volatile, it will be large(and the jump is smaller).  Adam Optimizer uses momentum and RMS prop. \n",
        " These methods are thus called methods that use a *dynamic learning rate*. "
      ]
    },
    {
      "cell_type": "code",
      "metadata": {
        "id": "enaDDMe7uWO_",
        "colab_type": "code",
        "colab": {}
      },
      "source": [
        "#Now, we use fast.ai to do all the above for us, using 'Learner'\n",
        "learn = Learner(data, Mnist_NN(), loss_func=loss_func, metrics=accuracy)"
      ],
      "execution_count": 0,
      "outputs": []
    },
    {
      "cell_type": "code",
      "metadata": {
        "id": "pm_NayEQuWPE",
        "colab_type": "code",
        "outputId": "d880415c-a88b-4e4c-f165-35a22dffce19",
        "colab": {
          "base_uri": "https://localhost:8080/",
          "height": 374
        }
      },
      "source": [
        "learn.lr_find()\n",
        "learn.recorder.plot()"
      ],
      "execution_count": 36,
      "outputs": [
        {
          "output_type": "display_data",
          "data": {
            "text/html": [
              "\n",
              "    <div>\n",
              "        <style>\n",
              "            /* Turns off some styling */\n",
              "            progress {\n",
              "                /* gets rid of default border in Firefox and Opera. */\n",
              "                border: none;\n",
              "                /* Needs to be in here for Safari polyfill so background images work as expected. */\n",
              "                background-size: auto;\n",
              "            }\n",
              "            .progress-bar-interrupted, .progress-bar-interrupted::-webkit-progress-bar {\n",
              "                background: #F44336;\n",
              "            }\n",
              "        </style>\n",
              "      <progress value='0' class='' max='1', style='width:300px; height:20px; vertical-align: middle;'></progress>\n",
              "      0.00% [0/1 00:00<00:00]\n",
              "    </div>\n",
              "    \n",
              "<table border=\"1\" class=\"dataframe\">\n",
              "  <thead>\n",
              "    <tr style=\"text-align: left;\">\n",
              "      <th>epoch</th>\n",
              "      <th>train_loss</th>\n",
              "      <th>valid_loss</th>\n",
              "      <th>accuracy</th>\n",
              "      <th>time</th>\n",
              "    </tr>\n",
              "  </thead>\n",
              "  <tbody>\n",
              "  </tbody>\n",
              "</table><p>\n",
              "\n",
              "    <div>\n",
              "        <style>\n",
              "            /* Turns off some styling */\n",
              "            progress {\n",
              "                /* gets rid of default border in Firefox and Opera. */\n",
              "                border: none;\n",
              "                /* Needs to be in here for Safari polyfill so background images work as expected. */\n",
              "                background-size: auto;\n",
              "            }\n",
              "            .progress-bar-interrupted, .progress-bar-interrupted::-webkit-progress-bar {\n",
              "                background: #F44336;\n",
              "            }\n",
              "        </style>\n",
              "      <progress value='94' class='' max='781', style='width:300px; height:20px; vertical-align: middle;'></progress>\n",
              "      12.04% [94/781 00:00<00:03 2.5221]\n",
              "    </div>\n",
              "    "
            ],
            "text/plain": [
              "<IPython.core.display.HTML object>"
            ]
          },
          "metadata": {
            "tags": []
          }
        },
        {
          "output_type": "stream",
          "text": [
            "LR Finder is complete, type {learner_name}.recorder.plot() to see the graph.\n"
          ],
          "name": "stdout"
        },
        {
          "output_type": "display_data",
          "data": {
            "image/png": "[encoded data removed]",
            "text/plain": [
              "<Figure size 432x288 with 1 Axes>"
            ]
          },
          "metadata": {
            "tags": []
          }
        }
      ]
    },
    {
      "cell_type": "code",
      "metadata": {
        "id": "Umkf9KGbuWPG",
        "colab_type": "code",
        "outputId": "43d81e1a-fcbe-4c99-f718-09ad4a80e1c1",
        "colab": {
          "base_uri": "https://localhost:8080/",
          "height": 80
        }
      },
      "source": [
        "learn.fit_one_cycle(1, 1e-2)"
      ],
      "execution_count": 37,
      "outputs": [
        {
          "output_type": "display_data",
          "data": {
            "text/html": [
              "<table border=\"1\" class=\"dataframe\">\n",
              "  <thead>\n",
              "    <tr style=\"text-align: left;\">\n",
              "      <th>epoch</th>\n",
              "      <th>train_loss</th>\n",
              "      <th>valid_loss</th>\n",
              "      <th>accuracy</th>\n",
              "      <th>time</th>\n",
              "    </tr>\n",
              "  </thead>\n",
              "  <tbody>\n",
              "    <tr>\n",
              "      <td>0</td>\n",
              "      <td>0.136847</td>\n",
              "      <td>0.126635</td>\n",
              "      <td>0.961700</td>\n",
              "      <td>00:03</td>\n",
              "    </tr>\n",
              "  </tbody>\n",
              "</table>"
            ],
            "text/plain": [
              "<IPython.core.display.HTML object>"
            ]
          },
          "metadata": {
            "tags": []
          }
        }
      ]
    },
    {
      "cell_type": "code",
      "metadata": {
        "id": "WOncVHW0uWPI",
        "colab_type": "code",
        "outputId": "21b4c1c3-08c3-4b20-ada3-bbddf6cf3eda",
        "colab": {
          "base_uri": "https://localhost:8080/",
          "height": 279
        }
      },
      "source": [
        "learn.recorder.plot_lr(show_moms=True)\n"
      ],
      "execution_count": 38,
      "outputs": [
        {
          "output_type": "display_data",
          "data": {
            "image/png": "[encoded data removed]",
            "text/plain": [
              "<Figure size 864x288 with 2 Axes>"
            ]
          },
          "metadata": {
            "tags": []
          }
        }
      ]
    },
    {
      "cell_type": "markdown",
      "metadata": {
        "id": "TtB2S7QEStZS",
        "colab_type": "text"
      },
      "source": [
        "Plots: On the left side is the learning rate, on the right side, we have momentum.\n",
        "When learning rate is small, momentum is large and vice versa. This is because, when learning rate is small and we're going in the same direction, we might as well go faster.\n",
        "Both these plots are for changes during one cycle and having a dynamic learning rate such as this can make a huge difference to speedup. \n",
        "Note how learning rate increases at first (when we don't know how close we are to the answer) and then decreases (as we get closer to the answer). "
      ]
    },
    {
      "cell_type": "code",
      "metadata": {
        "id": "p1XZPrxi1WRL",
        "colab_type": "code",
        "colab": {
          "base_uri": "https://localhost:8080/",
          "height": 279
        },
        "outputId": "3b10440a-bcec-4918-99c0-c831a4615476"
      },
      "source": [
        "learn.recorder.plot_losses()"
      ],
      "execution_count": 39,
      "outputs": [
        {
          "output_type": "display_data",
          "data": {
            "image/png": "[encoded data removed]",
            "text/plain": [
              "<Figure size 432x288 with 1 Axes>"
            ]
          },
          "metadata": {
            "tags": []
          }
        }
      ]
    }
  ]
}