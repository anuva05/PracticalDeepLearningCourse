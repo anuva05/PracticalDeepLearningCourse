{
  "nbformat": 4,
  "nbformat_minor": 0,
  "metadata": {
    "colab": {
      "name": "Lesson4-collaborative_filtering.ipynb",
      "provenance": [],
      "toc_visible": true,
      "authorship_tag": "ABX9TyMeSh9YJy+4BdsrOj3i//IR",
      "include_colab_link": true
    },
    "kernelspec": {
      "name": "python3",
      "display_name": "Python 3"
    },
    "accelerator": "GPU"
  },
  "cells": [
    {
      "cell_type": "markdown",
      "metadata": {
        "id": "view-in-github",
        "colab_type": "text"
      },
      "source": [
        "<a href=\"https://colab.research.google.com/github/anuva05/PracticalDeepLearningCourse/blob/master/Lesson4_collaborative_filtering.ipynb\" target=\"_parent\"><img src=\"https://colab.research.google.com/assets/colab-badge.svg\" alt=\"Open In Colab\"/></a>"
      ]
    },
    {
      "cell_type": "markdown",
      "metadata": {
        "id": "0sFA-a27XK3I",
        "colab_type": "text"
      },
      "source": [
        "# Collaborative filtering example"
      ]
    },
    {
      "cell_type": "markdown",
      "metadata": {
        "id": "We3jP1UiXOvU",
        "colab_type": "text"
      },
      "source": [
        "Collaborative filtering is a technique that can filter out items that a user might like on the basis of reactions by similar users. It works by searching a large group of people and finding a smaller set of users with tastes similar to a particular user."
      ]
    },
    {
      "cell_type": "code",
      "metadata": {
        "id": "cUoIlXI7XGOZ",
        "colab_type": "code",
        "colab": {}
      },
      "source": [
        "from fastai.collab import *\n",
        "from fastai.tabular import *"
      ],
      "execution_count": 0,
      "outputs": []
    },
    {
      "cell_type": "code",
      "metadata": {
        "id": "1Puber8VYZea",
        "colab_type": "code",
        "colab": {}
      },
      "source": [
        "#this is what the dataframe for data for a collab model looks like\n",
        "user,item,title = 'userId','movieId','title'"
      ],
      "execution_count": 0,
      "outputs": []
    },
    {
      "cell_type": "code",
      "metadata": {
        "id": "0aD_cOcBYq43",
        "colab_type": "code",
        "outputId": "d4199292-de16-4c2c-c5b9-a365833db9a0",
        "colab": {
          "base_uri": "https://localhost:8080/",
          "height": 51
        }
      },
      "source": [
        "path = untar_data(URLs.ML_SAMPLE)\n",
        "path"
      ],
      "execution_count": 3,
      "outputs": [
        {
          "output_type": "stream",
          "text": [
            "Downloading http://files.fast.ai/data/examples/movie_lens_sample\n"
          ],
          "name": "stdout"
        },
        {
          "output_type": "display_data",
          "data": {
            "text/html": [
              ""
            ],
            "text/plain": [
              "<IPython.core.display.HTML object>"
            ]
          },
          "metadata": {
            "tags": []
          }
        },
        {
          "output_type": "execute_result",
          "data": {
            "text/plain": [
              "PosixPath('/root/.fastai/data/movie_lens_sample')"
            ]
          },
          "metadata": {
            "tags": []
          },
          "execution_count": 3
        }
      ]
    },
    {
      "cell_type": "code",
      "metadata": {
        "id": "FiUOJEnYYtJL",
        "colab_type": "code",
        "outputId": "d43de01f-8974-486f-f361-ce3438c18425",
        "colab": {
          "base_uri": "https://localhost:8080/",
          "height": 204
        }
      },
      "source": [
        "ratings = pd.read_csv(path/'ratings.csv')\n",
        "ratings.head()"
      ],
      "execution_count": 4,
      "outputs": [
        {
          "output_type": "execute_result",
          "data": {
            "text/html": [
              "<div>\n",
              "<style scoped>\n",
              "    .dataframe tbody tr th:only-of-type {\n",
              "        vertical-align: middle;\n",
              "    }\n",
              "\n",
              "    .dataframe tbody tr th {\n",
              "        vertical-align: top;\n",
              "    }\n",
              "\n",
              "    .dataframe thead th {\n",
              "        text-align: right;\n",
              "    }\n",
              "</style>\n",
              "<table border=\"1\" class=\"dataframe\">\n",
              "  <thead>\n",
              "    <tr style=\"text-align: right;\">\n",
              "      <th></th>\n",
              "      <th>userId</th>\n",
              "      <th>movieId</th>\n",
              "      <th>rating</th>\n",
              "      <th>timestamp</th>\n",
              "    </tr>\n",
              "  </thead>\n",
              "  <tbody>\n",
              "    <tr>\n",
              "      <th>0</th>\n",
              "      <td>73</td>\n",
              "      <td>1097</td>\n",
              "      <td>4.0</td>\n",
              "      <td>1255504951</td>\n",
              "    </tr>\n",
              "    <tr>\n",
              "      <th>1</th>\n",
              "      <td>561</td>\n",
              "      <td>924</td>\n",
              "      <td>3.5</td>\n",
              "      <td>1172695223</td>\n",
              "    </tr>\n",
              "    <tr>\n",
              "      <th>2</th>\n",
              "      <td>157</td>\n",
              "      <td>260</td>\n",
              "      <td>3.5</td>\n",
              "      <td>1291598691</td>\n",
              "    </tr>\n",
              "    <tr>\n",
              "      <th>3</th>\n",
              "      <td>358</td>\n",
              "      <td>1210</td>\n",
              "      <td>5.0</td>\n",
              "      <td>957481884</td>\n",
              "    </tr>\n",
              "    <tr>\n",
              "      <th>4</th>\n",
              "      <td>130</td>\n",
              "      <td>316</td>\n",
              "      <td>2.0</td>\n",
              "      <td>1138999234</td>\n",
              "    </tr>\n",
              "  </tbody>\n",
              "</table>\n",
              "</div>"
            ],
            "text/plain": [
              "   userId  movieId  rating   timestamp\n",
              "0      73     1097     4.0  1255504951\n",
              "1     561      924     3.5  1172695223\n",
              "2     157      260     3.5  1291598691\n",
              "3     358     1210     5.0   957481884\n",
              "4     130      316     2.0  1138999234"
            ]
          },
          "metadata": {
            "tags": []
          },
          "execution_count": 4
        }
      ]
    },
    {
      "cell_type": "code",
      "metadata": {
        "id": "UM2t-byTYwBB",
        "colab_type": "code",
        "colab": {}
      },
      "source": [
        "#Let us create a model from the given data about movie ratings\n",
        "data = CollabDataBunch.from_df(ratings, seed=42)"
      ],
      "execution_count": 0,
      "outputs": []
    },
    {
      "cell_type": "code",
      "metadata": {
        "id": "yAnNDefVY783",
        "colab_type": "code",
        "colab": {}
      },
      "source": [
        "y_range = [0,5.5]"
      ],
      "execution_count": 0,
      "outputs": []
    },
    {
      "cell_type": "code",
      "metadata": {
        "id": "ul0Ri6YIY_m3",
        "colab_type": "code",
        "colab": {}
      },
      "source": [
        "learn = collab_learner(data, n_factors=50, y_range=y_range)"
      ],
      "execution_count": 0,
      "outputs": []
    },
    {
      "cell_type": "code",
      "metadata": {
        "id": "V55ejtToZCCP",
        "colab_type": "code",
        "outputId": "f109507c-c78f-4cea-d4b4-6e53466c3a3a",
        "colab": {
          "base_uri": "https://localhost:8080/",
          "height": 142
        }
      },
      "source": [
        "learn.fit_one_cycle(3, 5e-3)"
      ],
      "execution_count": 8,
      "outputs": [
        {
          "output_type": "display_data",
          "data": {
            "text/html": [
              "<table border=\"1\" class=\"dataframe\">\n",
              "  <thead>\n",
              "    <tr style=\"text-align: left;\">\n",
              "      <th>epoch</th>\n",
              "      <th>train_loss</th>\n",
              "      <th>valid_loss</th>\n",
              "      <th>time</th>\n",
              "    </tr>\n",
              "  </thead>\n",
              "  <tbody>\n",
              "    <tr>\n",
              "      <td>0</td>\n",
              "      <td>1.623453</td>\n",
              "      <td>0.980602</td>\n",
              "      <td>00:01</td>\n",
              "    </tr>\n",
              "    <tr>\n",
              "      <td>1</td>\n",
              "      <td>0.829864</td>\n",
              "      <td>0.658444</td>\n",
              "      <td>00:00</td>\n",
              "    </tr>\n",
              "    <tr>\n",
              "      <td>2</td>\n",
              "      <td>0.633095</td>\n",
              "      <td>0.657259</td>\n",
              "      <td>00:00</td>\n",
              "    </tr>\n",
              "  </tbody>\n",
              "</table>"
            ],
            "text/plain": [
              "<IPython.core.display.HTML object>"
            ]
          },
          "metadata": {
            "tags": []
          }
        }
      ]
    },
    {
      "cell_type": "markdown",
      "metadata": {
        "id": "jgd8fvLbaRBB",
        "colab_type": "text"
      },
      "source": [
        "#Movielens dataset"
      ]
    },
    {
      "cell_type": "markdown",
      "metadata": {
        "id": "3Yn_OERCaS7v",
        "colab_type": "text"
      },
      "source": [
        "Let's try with the full Movielens 100k data dataset, available from http://files.grouplens.org/datasets/movielens/ml-100k.zip"
      ]
    },
    {
      "cell_type": "code",
      "metadata": {
        "id": "T8s3DFmFacss",
        "colab_type": "code",
        "outputId": "ed95cd54-b9ae-43d6-d45d-b92fcb7b2e69",
        "colab": {
          "base_uri": "https://localhost:8080/",
          "height": 442
        }
      },
      "source": [
        "path=Config.data_path()/'ml-100k'\n",
        "#uploaded the .zip dataset to Colab. Now unzip it\n",
        "! unzip ml-100k.zip -d {path}\n",
        "\n"
      ],
      "execution_count": 9,
      "outputs": [
        {
          "output_type": "stream",
          "text": [
            "Archive:  ml-100k.zip\n",
            "   creating: /root/.fastai/data/ml-100k/ml-100k/\n",
            "  inflating: /root/.fastai/data/ml-100k/ml-100k/allbut.pl  \n",
            "  inflating: /root/.fastai/data/ml-100k/ml-100k/mku.sh  \n",
            "  inflating: /root/.fastai/data/ml-100k/ml-100k/README  \n",
            "  inflating: /root/.fastai/data/ml-100k/ml-100k/u.data  \n",
            "  inflating: /root/.fastai/data/ml-100k/ml-100k/u.genre  \n",
            "  inflating: /root/.fastai/data/ml-100k/ml-100k/u.info  \n",
            "  inflating: /root/.fastai/data/ml-100k/ml-100k/u.item  \n",
            "  inflating: /root/.fastai/data/ml-100k/ml-100k/u.occupation  \n",
            "  inflating: /root/.fastai/data/ml-100k/ml-100k/u.user  \n",
            "  inflating: /root/.fastai/data/ml-100k/ml-100k/u1.base  \n",
            "  inflating: /root/.fastai/data/ml-100k/ml-100k/u1.test  \n",
            "  inflating: /root/.fastai/data/ml-100k/ml-100k/u2.base  \n",
            "  inflating: /root/.fastai/data/ml-100k/ml-100k/u2.test  \n",
            "  inflating: /root/.fastai/data/ml-100k/ml-100k/u3.base  \n",
            "  inflating: /root/.fastai/data/ml-100k/ml-100k/u3.test  \n",
            "  inflating: /root/.fastai/data/ml-100k/ml-100k/u4.base  \n",
            "  inflating: /root/.fastai/data/ml-100k/ml-100k/u4.test  \n",
            "  inflating: /root/.fastai/data/ml-100k/ml-100k/u5.base  \n",
            "  inflating: /root/.fastai/data/ml-100k/ml-100k/u5.test  \n",
            "  inflating: /root/.fastai/data/ml-100k/ml-100k/ua.base  \n",
            "  inflating: /root/.fastai/data/ml-100k/ml-100k/ua.test  \n",
            "  inflating: /root/.fastai/data/ml-100k/ml-100k/ub.base  \n",
            "  inflating: /root/.fastai/data/ml-100k/ml-100k/ub.test  \n"
          ],
          "name": "stdout"
        }
      ]
    },
    {
      "cell_type": "code",
      "metadata": {
        "id": "LCXY7xrsgtg6",
        "colab_type": "code",
        "outputId": "c67bbb20-133e-41b0-8e77-efdf023d107a",
        "colab": {
          "base_uri": "https://localhost:8080/",
          "height": 68
        }
      },
      "source": [
        "! ls {path}/'ml-100k'\n"
      ],
      "execution_count": 10,
      "outputs": [
        {
          "output_type": "stream",
          "text": [
            "allbut.pl  u1.base  u2.test  u4.base  u5.test  ub.base\tu.genre  u.occupation\n",
            "mku.sh\t   u1.test  u3.base  u4.test  ua.base  ub.test\tu.info\t u.user\n",
            "README\t   u2.base  u3.test  u5.base  ua.test  u.data\tu.item\n"
          ],
          "name": "stdout"
        }
      ]
    },
    {
      "cell_type": "code",
      "metadata": {
        "id": "7OfE8y1SadXH",
        "colab_type": "code",
        "colab": {}
      },
      "source": [
        "#read with pandas\n",
        "path= Config.data_path()/'ml-100k/ml-100k'"
      ],
      "execution_count": 0,
      "outputs": []
    },
    {
      "cell_type": "code",
      "metadata": {
        "id": "oxGyGKHjamBL",
        "colab_type": "code",
        "outputId": "f2a73695-3926-4524-cc0f-f283108c179f",
        "colab": {
          "base_uri": "https://localhost:8080/",
          "height": 394
        }
      },
      "source": [
        "movies = pd.read_csv(path/'u.item',  delimiter='|', encoding='latin-1', header=None,\n",
        "                    names=[item, 'title', 'date', 'N', 'url', *[f'g{i}' for i in range(19)]])\n",
        "#note that encoding is set such that a file that is not unicode can be read\n",
        "movies.head()"
      ],
      "execution_count": 12,
      "outputs": [
        {
          "output_type": "execute_result",
          "data": {
            "text/html": [
              "<div>\n",
              "<style scoped>\n",
              "    .dataframe tbody tr th:only-of-type {\n",
              "        vertical-align: middle;\n",
              "    }\n",
              "\n",
              "    .dataframe tbody tr th {\n",
              "        vertical-align: top;\n",
              "    }\n",
              "\n",
              "    .dataframe thead th {\n",
              "        text-align: right;\n",
              "    }\n",
              "</style>\n",
              "<table border=\"1\" class=\"dataframe\">\n",
              "  <thead>\n",
              "    <tr style=\"text-align: right;\">\n",
              "      <th></th>\n",
              "      <th>movieId</th>\n",
              "      <th>title</th>\n",
              "      <th>date</th>\n",
              "      <th>N</th>\n",
              "      <th>url</th>\n",
              "      <th>g0</th>\n",
              "      <th>g1</th>\n",
              "      <th>g2</th>\n",
              "      <th>g3</th>\n",
              "      <th>g4</th>\n",
              "      <th>g5</th>\n",
              "      <th>g6</th>\n",
              "      <th>g7</th>\n",
              "      <th>g8</th>\n",
              "      <th>g9</th>\n",
              "      <th>g10</th>\n",
              "      <th>g11</th>\n",
              "      <th>g12</th>\n",
              "      <th>g13</th>\n",
              "      <th>g14</th>\n",
              "      <th>g15</th>\n",
              "      <th>g16</th>\n",
              "      <th>g17</th>\n",
              "      <th>g18</th>\n",
              "    </tr>\n",
              "  </thead>\n",
              "  <tbody>\n",
              "    <tr>\n",
              "      <th>0</th>\n",
              "      <td>1</td>\n",
              "      <td>Toy Story (1995)</td>\n",
              "      <td>01-Jan-1995</td>\n",
              "      <td>NaN</td>\n",
              "      <td>http://us.imdb.com/M/title-exact?Toy%20Story%2...</td>\n",
              "      <td>0</td>\n",
              "      <td>0</td>\n",
              "      <td>0</td>\n",
              "      <td>1</td>\n",
              "      <td>1</td>\n",
              "      <td>1</td>\n",
              "      <td>0</td>\n",
              "      <td>0</td>\n",
              "      <td>0</td>\n",
              "      <td>0</td>\n",
              "      <td>0</td>\n",
              "      <td>0</td>\n",
              "      <td>0</td>\n",
              "      <td>0</td>\n",
              "      <td>0</td>\n",
              "      <td>0</td>\n",
              "      <td>0</td>\n",
              "      <td>0</td>\n",
              "      <td>0</td>\n",
              "    </tr>\n",
              "    <tr>\n",
              "      <th>1</th>\n",
              "      <td>2</td>\n",
              "      <td>GoldenEye (1995)</td>\n",
              "      <td>01-Jan-1995</td>\n",
              "      <td>NaN</td>\n",
              "      <td>http://us.imdb.com/M/title-exact?GoldenEye%20(...</td>\n",
              "      <td>0</td>\n",
              "      <td>1</td>\n",
              "      <td>1</td>\n",
              "      <td>0</td>\n",
              "      <td>0</td>\n",
              "      <td>0</td>\n",
              "      <td>0</td>\n",
              "      <td>0</td>\n",
              "      <td>0</td>\n",
              "      <td>0</td>\n",
              "      <td>0</td>\n",
              "      <td>0</td>\n",
              "      <td>0</td>\n",
              "      <td>0</td>\n",
              "      <td>0</td>\n",
              "      <td>0</td>\n",
              "      <td>1</td>\n",
              "      <td>0</td>\n",
              "      <td>0</td>\n",
              "    </tr>\n",
              "    <tr>\n",
              "      <th>2</th>\n",
              "      <td>3</td>\n",
              "      <td>Four Rooms (1995)</td>\n",
              "      <td>01-Jan-1995</td>\n",
              "      <td>NaN</td>\n",
              "      <td>http://us.imdb.com/M/title-exact?Four%20Rooms%...</td>\n",
              "      <td>0</td>\n",
              "      <td>0</td>\n",
              "      <td>0</td>\n",
              "      <td>0</td>\n",
              "      <td>0</td>\n",
              "      <td>0</td>\n",
              "      <td>0</td>\n",
              "      <td>0</td>\n",
              "      <td>0</td>\n",
              "      <td>0</td>\n",
              "      <td>0</td>\n",
              "      <td>0</td>\n",
              "      <td>0</td>\n",
              "      <td>0</td>\n",
              "      <td>0</td>\n",
              "      <td>0</td>\n",
              "      <td>1</td>\n",
              "      <td>0</td>\n",
              "      <td>0</td>\n",
              "    </tr>\n",
              "    <tr>\n",
              "      <th>3</th>\n",
              "      <td>4</td>\n",
              "      <td>Get Shorty (1995)</td>\n",
              "      <td>01-Jan-1995</td>\n",
              "      <td>NaN</td>\n",
              "      <td>http://us.imdb.com/M/title-exact?Get%20Shorty%...</td>\n",
              "      <td>0</td>\n",
              "      <td>1</td>\n",
              "      <td>0</td>\n",
              "      <td>0</td>\n",
              "      <td>0</td>\n",
              "      <td>1</td>\n",
              "      <td>0</td>\n",
              "      <td>0</td>\n",
              "      <td>1</td>\n",
              "      <td>0</td>\n",
              "      <td>0</td>\n",
              "      <td>0</td>\n",
              "      <td>0</td>\n",
              "      <td>0</td>\n",
              "      <td>0</td>\n",
              "      <td>0</td>\n",
              "      <td>0</td>\n",
              "      <td>0</td>\n",
              "      <td>0</td>\n",
              "    </tr>\n",
              "    <tr>\n",
              "      <th>4</th>\n",
              "      <td>5</td>\n",
              "      <td>Copycat (1995)</td>\n",
              "      <td>01-Jan-1995</td>\n",
              "      <td>NaN</td>\n",
              "      <td>http://us.imdb.com/M/title-exact?Copycat%20(1995)</td>\n",
              "      <td>0</td>\n",
              "      <td>0</td>\n",
              "      <td>0</td>\n",
              "      <td>0</td>\n",
              "      <td>0</td>\n",
              "      <td>0</td>\n",
              "      <td>1</td>\n",
              "      <td>0</td>\n",
              "      <td>1</td>\n",
              "      <td>0</td>\n",
              "      <td>0</td>\n",
              "      <td>0</td>\n",
              "      <td>0</td>\n",
              "      <td>0</td>\n",
              "      <td>0</td>\n",
              "      <td>0</td>\n",
              "      <td>1</td>\n",
              "      <td>0</td>\n",
              "      <td>0</td>\n",
              "    </tr>\n",
              "  </tbody>\n",
              "</table>\n",
              "</div>"
            ],
            "text/plain": [
              "   movieId              title         date   N  ... g15  g16  g17  g18\n",
              "0        1   Toy Story (1995)  01-Jan-1995 NaN  ...   0    0    0    0\n",
              "1        2   GoldenEye (1995)  01-Jan-1995 NaN  ...   0    1    0    0\n",
              "2        3  Four Rooms (1995)  01-Jan-1995 NaN  ...   0    1    0    0\n",
              "3        4  Get Shorty (1995)  01-Jan-1995 NaN  ...   0    0    0    0\n",
              "4        5     Copycat (1995)  01-Jan-1995 NaN  ...   0    1    0    0\n",
              "\n",
              "[5 rows x 24 columns]"
            ]
          },
          "metadata": {
            "tags": []
          },
          "execution_count": 12
        }
      ]
    },
    {
      "cell_type": "code",
      "metadata": {
        "id": "irAEKwHKamuA",
        "colab_type": "code",
        "outputId": "28fe3567-2bee-4141-d48e-eb15e21970ab",
        "colab": {
          "base_uri": "https://localhost:8080/",
          "height": 34
        }
      },
      "source": [
        "#There are 100k movie ratings\n",
        "len(ratings)"
      ],
      "execution_count": 13,
      "outputs": [
        {
          "output_type": "execute_result",
          "data": {
            "text/plain": [
              "6031"
            ]
          },
          "metadata": {
            "tags": []
          },
          "execution_count": 13
        }
      ]
    },
    {
      "cell_type": "code",
      "metadata": {
        "id": "e5jHT7LMataa",
        "colab_type": "code",
        "outputId": "c850561e-9ff0-4fa2-eb4a-f700881832ff",
        "colab": {
          "base_uri": "https://localhost:8080/",
          "height": 204
        }
      },
      "source": [
        "#group by movie, so that we can see the titles\n",
        "rating_movie = ratings.merge(movies[[item, title]])\n",
        "rating_movie.head()"
      ],
      "execution_count": 14,
      "outputs": [
        {
          "output_type": "execute_result",
          "data": {
            "text/html": [
              "<div>\n",
              "<style scoped>\n",
              "    .dataframe tbody tr th:only-of-type {\n",
              "        vertical-align: middle;\n",
              "    }\n",
              "\n",
              "    .dataframe tbody tr th {\n",
              "        vertical-align: top;\n",
              "    }\n",
              "\n",
              "    .dataframe thead th {\n",
              "        text-align: right;\n",
              "    }\n",
              "</style>\n",
              "<table border=\"1\" class=\"dataframe\">\n",
              "  <thead>\n",
              "    <tr style=\"text-align: right;\">\n",
              "      <th></th>\n",
              "      <th>userId</th>\n",
              "      <th>movieId</th>\n",
              "      <th>rating</th>\n",
              "      <th>timestamp</th>\n",
              "      <th>title</th>\n",
              "    </tr>\n",
              "  </thead>\n",
              "  <tbody>\n",
              "    <tr>\n",
              "      <th>0</th>\n",
              "      <td>73</td>\n",
              "      <td>1097</td>\n",
              "      <td>4.0</td>\n",
              "      <td>1255504951</td>\n",
              "      <td>Hate (Haine, La) (1995)</td>\n",
              "    </tr>\n",
              "    <tr>\n",
              "      <th>1</th>\n",
              "      <td>102</td>\n",
              "      <td>1097</td>\n",
              "      <td>4.0</td>\n",
              "      <td>956600083</td>\n",
              "      <td>Hate (Haine, La) (1995)</td>\n",
              "    </tr>\n",
              "    <tr>\n",
              "      <th>2</th>\n",
              "      <td>665</td>\n",
              "      <td>1097</td>\n",
              "      <td>5.0</td>\n",
              "      <td>992909039</td>\n",
              "      <td>Hate (Haine, La) (1995)</td>\n",
              "    </tr>\n",
              "    <tr>\n",
              "      <th>3</th>\n",
              "      <td>157</td>\n",
              "      <td>1097</td>\n",
              "      <td>3.0</td>\n",
              "      <td>1291598808</td>\n",
              "      <td>Hate (Haine, La) (1995)</td>\n",
              "    </tr>\n",
              "    <tr>\n",
              "      <th>4</th>\n",
              "      <td>312</td>\n",
              "      <td>1097</td>\n",
              "      <td>3.0</td>\n",
              "      <td>959935483</td>\n",
              "      <td>Hate (Haine, La) (1995)</td>\n",
              "    </tr>\n",
              "  </tbody>\n",
              "</table>\n",
              "</div>"
            ],
            "text/plain": [
              "   userId  movieId  rating   timestamp                    title\n",
              "0      73     1097     4.0  1255504951  Hate (Haine, La) (1995)\n",
              "1     102     1097     4.0   956600083  Hate (Haine, La) (1995)\n",
              "2     665     1097     5.0   992909039  Hate (Haine, La) (1995)\n",
              "3     157     1097     3.0  1291598808  Hate (Haine, La) (1995)\n",
              "4     312     1097     3.0   959935483  Hate (Haine, La) (1995)"
            ]
          },
          "metadata": {
            "tags": []
          },
          "execution_count": 14
        }
      ]
    },
    {
      "cell_type": "code",
      "metadata": {
        "id": "9yP2mLTuavcQ",
        "colab_type": "code",
        "colab": {}
      },
      "source": [
        "#Create data bunch object. valid_pct =0.1 means 10% of the dataset is chosen for validation\n",
        "# Use the movie name in the'title' column as 'item' in the model. \n",
        "data = CollabDataBunch.from_df(rating_movie, seed=42, valid_pct=0.1, item_name=title)"
      ],
      "execution_count": 0,
      "outputs": []
    },
    {
      "cell_type": "markdown",
      "metadata": {
        "id": "ZIkuCOFDSyf1",
        "colab_type": "text"
      },
      "source": [
        "Initially, the weight matrices are initialized to random numbers and we can train them with gradient descent. "
      ]
    },
    {
      "cell_type": "code",
      "metadata": {
        "id": "F7VOwIMWa4ny",
        "colab_type": "code",
        "outputId": "d94b2e2c-8b3c-44a7-f54a-0156a5d0c631",
        "colab": {
          "base_uri": "https://localhost:8080/",
          "height": 204
        }
      },
      "source": [
        "#Take a look at some of the data bunch objects\n",
        "data.show_batch()"
      ],
      "execution_count": 16,
      "outputs": [
        {
          "output_type": "display_data",
          "data": {
            "text/html": [
              "<table border=\"1\" class=\"dataframe\">\n",
              "  <thead>\n",
              "    <tr style=\"text-align: right;\">\n",
              "      <th>userId</th>\n",
              "      <th>title</th>\n",
              "      <th>target</th>\n",
              "    </tr>\n",
              "  </thead>\n",
              "  <tbody>\n",
              "    <tr>\n",
              "      <td>130</td>\n",
              "      <td>Heavyweights (1994)</td>\n",
              "      <td>3.0</td>\n",
              "    </tr>\n",
              "    <tr>\n",
              "      <td>313</td>\n",
              "      <td>Crumb (1994)</td>\n",
              "      <td>3.0</td>\n",
              "    </tr>\n",
              "    <tr>\n",
              "      <td>596</td>\n",
              "      <td>Wild Bunch, The (1969)</td>\n",
              "      <td>4.0</td>\n",
              "    </tr>\n",
              "    <tr>\n",
              "      <td>664</td>\n",
              "      <td>Mortal Kombat (1995)</td>\n",
              "      <td>4.0</td>\n",
              "    </tr>\n",
              "    <tr>\n",
              "      <td>213</td>\n",
              "      <td>Fan, The (1996)</td>\n",
              "      <td>3.0</td>\n",
              "    </tr>\n",
              "  </tbody>\n",
              "</table>"
            ],
            "text/plain": [
              "<IPython.core.display.HTML object>"
            ]
          },
          "metadata": {
            "tags": []
          }
        }
      ]
    },
    {
      "cell_type": "markdown",
      "metadata": {
        "id": "wcykuR6KQcnk",
        "colab_type": "text"
      },
      "source": [
        "The final activation function is a sigmoid. The range of values should be [0.5,5] rating. However, sigmoids asymptote at the min and max values of the range, so for better accuracy, one trick is to use a range that is [min-0.5 to max + 0.5].Hence, here we use [0,5.5]"
      ]
    },
    {
      "cell_type": "code",
      "metadata": {
        "id": "2fo-ifslbIKu",
        "colab_type": "code",
        "colab": {}
      },
      "source": [
        "y_range=[0,5.5]"
      ],
      "execution_count": 0,
      "outputs": []
    },
    {
      "cell_type": "code",
      "metadata": {
        "id": "ecZqTd6wbLhY",
        "colab_type": "code",
        "colab": {}
      },
      "source": [
        "# Setup the learner\n",
        "#Collab_learner creates a learner for collaborative filtering on data. \n",
        "#More specifically, it binds data with an EmbeddingDotBias model\n",
        "# wd= weight decay\n",
        "learn = collab_learner(data, n_factors=40, y_range=y_range, wd=1e-1)"
      ],
      "execution_count": 0,
      "outputs": []
    },
    {
      "cell_type": "code",
      "metadata": {
        "id": "y35edXqibQM3",
        "colab_type": "code",
        "outputId": "f486a4b0-8a21-4499-951d-b7b23bb0061b",
        "colab": {
          "base_uri": "https://localhost:8080/",
          "height": 405
        }
      },
      "source": [
        "#Find the learning rate\n",
        "learn.lr_find()\n",
        "learn.recorder.plot(skip_end=15)"
      ],
      "execution_count": 19,
      "outputs": [
        {
          "output_type": "display_data",
          "data": {
            "text/html": [
              "\n",
              "    <div>\n",
              "        <style>\n",
              "            /* Turns off some styling */\n",
              "            progress {\n",
              "                /* gets rid of default border in Firefox and Opera. */\n",
              "                border: none;\n",
              "                /* Needs to be in here for Safari polyfill so background images work as expected. */\n",
              "                background-size: auto;\n",
              "            }\n",
              "            .progress-bar-interrupted, .progress-bar-interrupted::-webkit-progress-bar {\n",
              "                background: #F44336;\n",
              "            }\n",
              "        </style>\n",
              "      <progress value='1' class='' max='2', style='width:300px; height:20px; vertical-align: middle;'></progress>\n",
              "      50.00% [1/2 00:00<00:00]\n",
              "    </div>\n",
              "    \n",
              "<table border=\"1\" class=\"dataframe\">\n",
              "  <thead>\n",
              "    <tr style=\"text-align: left;\">\n",
              "      <th>epoch</th>\n",
              "      <th>train_loss</th>\n",
              "      <th>valid_loss</th>\n",
              "      <th>time</th>\n",
              "    </tr>\n",
              "  </thead>\n",
              "  <tbody>\n",
              "    <tr>\n",
              "      <td>0</td>\n",
              "      <td>1.972201</td>\n",
              "      <td>#na#</td>\n",
              "      <td>00:00</td>\n",
              "    </tr>\n",
              "  </tbody>\n",
              "</table><p>\n",
              "\n",
              "    <div>\n",
              "        <style>\n",
              "            /* Turns off some styling */\n",
              "            progress {\n",
              "                /* gets rid of default border in Firefox and Opera. */\n",
              "                border: none;\n",
              "                /* Needs to be in here for Safari polyfill so background images work as expected. */\n",
              "                background-size: auto;\n",
              "            }\n",
              "            .progress-bar-interrupted, .progress-bar-interrupted::-webkit-progress-bar {\n",
              "                background: #F44336;\n",
              "            }\n",
              "        </style>\n",
              "      <progress value='25' class='' max='59', style='width:300px; height:20px; vertical-align: middle;'></progress>\n",
              "      42.37% [25/59 00:00<00:00 1.9111]\n",
              "    </div>\n",
              "    "
            ],
            "text/plain": [
              "<IPython.core.display.HTML object>"
            ]
          },
          "metadata": {
            "tags": []
          }
        },
        {
          "output_type": "stream",
          "text": [
            "LR Finder is complete, type {learner_name}.recorder.plot() to see the graph.\n"
          ],
          "name": "stdout"
        },
        {
          "output_type": "display_data",
          "data": {
            "image/png": "[encoded data removed]",
            "text/plain": [
              "<Figure size 432x288 with 1 Axes>"
            ]
          },
          "metadata": {
            "tags": []
          }
        }
      ]
    },
    {
      "cell_type": "code",
      "metadata": {
        "id": "j_Zu-yLebUgW",
        "colab_type": "code",
        "outputId": "f03722b0-ea59-41a1-aff4-94576d061866",
        "colab": {
          "base_uri": "https://localhost:8080/",
          "height": 204
        }
      },
      "source": [
        "#Train the model for 5 epochs with a learning rate of 5e-3\n",
        "# which might work well, as seen from above graph\n",
        "# Model finds latent vectors \n",
        "learn.fit_one_cycle(5, 5e-3)"
      ],
      "execution_count": 20,
      "outputs": [
        {
          "output_type": "display_data",
          "data": {
            "text/html": [
              "<table border=\"1\" class=\"dataframe\">\n",
              "  <thead>\n",
              "    <tr style=\"text-align: left;\">\n",
              "      <th>epoch</th>\n",
              "      <th>train_loss</th>\n",
              "      <th>valid_loss</th>\n",
              "      <th>time</th>\n",
              "    </tr>\n",
              "  </thead>\n",
              "  <tbody>\n",
              "    <tr>\n",
              "      <td>0</td>\n",
              "      <td>1.887275</td>\n",
              "      <td>1.626771</td>\n",
              "      <td>00:00</td>\n",
              "    </tr>\n",
              "    <tr>\n",
              "      <td>1</td>\n",
              "      <td>1.073433</td>\n",
              "      <td>0.581732</td>\n",
              "      <td>00:00</td>\n",
              "    </tr>\n",
              "    <tr>\n",
              "      <td>2</td>\n",
              "      <td>0.739032</td>\n",
              "      <td>0.564450</td>\n",
              "      <td>00:00</td>\n",
              "    </tr>\n",
              "    <tr>\n",
              "      <td>3</td>\n",
              "      <td>0.601833</td>\n",
              "      <td>0.560359</td>\n",
              "      <td>00:00</td>\n",
              "    </tr>\n",
              "    <tr>\n",
              "      <td>4</td>\n",
              "      <td>0.543383</td>\n",
              "      <td>0.557323</td>\n",
              "      <td>00:00</td>\n",
              "    </tr>\n",
              "  </tbody>\n",
              "</table>"
            ],
            "text/plain": [
              "<IPython.core.display.HTML object>"
            ]
          },
          "metadata": {
            "tags": []
          }
        }
      ]
    },
    {
      "cell_type": "code",
      "metadata": {
        "id": "H5CjvvQfbXb3",
        "colab_type": "code",
        "colab": {}
      },
      "source": [
        "learn.save('dotprod')"
      ],
      "execution_count": 0,
      "outputs": []
    },
    {
      "cell_type": "markdown",
      "metadata": {
        "id": "utQmrePjihgK",
        "colab_type": "text"
      },
      "source": [
        "[Some benchmarks](https://www.librec.net/release/v1.3/example.html) on the same dataset for the popular Librec system for collaborative filtering. They show best results based on RMSE of 0.91, which corresponds to an MSE of `0.91**2 = 0.83`."
      ]
    },
    {
      "cell_type": "markdown",
      "metadata": {
        "id": "P5QUnM2YivVS",
        "colab_type": "text"
      },
      "source": [
        "# Using the model"
      ]
    },
    {
      "cell_type": "code",
      "metadata": {
        "id": "q7ff6mJei01v",
        "colab_type": "code",
        "colab": {}
      },
      "source": [
        "learn.load('dotprod');"
      ],
      "execution_count": 0,
      "outputs": []
    },
    {
      "cell_type": "code",
      "metadata": {
        "id": "AxKJcDUPi1de",
        "colab_type": "code",
        "outputId": "a0fcbd44-7c7a-4394-a710-7b6568f7fcac",
        "colab": {
          "base_uri": "https://localhost:8080/",
          "height": 119
        }
      },
      "source": [
        "#Look at the model details. EmbeddingDotBias is a Pytorch model to find embeddings.\n",
        "# It is a standard multi-layer perceptron without biases and one hidden layer\n",
        "learn.model"
      ],
      "execution_count": 23,
      "outputs": [
        {
          "output_type": "execute_result",
          "data": {
            "text/plain": [
              "EmbeddingDotBias(\n",
              "  (u_weight): Embedding(100, 40)\n",
              "  (i_weight): Embedding(71, 40)\n",
              "  (u_bias): Embedding(100, 1)\n",
              "  (i_bias): Embedding(71, 1)\n",
              ")"
            ]
          },
          "metadata": {
            "tags": []
          },
          "execution_count": 23
        }
      ]
    },
    {
      "cell_type": "code",
      "metadata": {
        "id": "wYqONGwUi3WN",
        "colab_type": "code",
        "outputId": "785eac18-bdbc-405e-a360-80e48cceaaf1",
        "colab": {
          "base_uri": "https://localhost:8080/",
          "height": 68
        }
      },
      "source": [
        "#These are some top rated movies\n",
        "g = rating_movie.groupby(title)['rating'].count()\n",
        "top_movies = g.sort_values(ascending=False).index.values[:1000]\n",
        "top_movies[:10]"
      ],
      "execution_count": 24,
      "outputs": [
        {
          "output_type": "execute_result",
          "data": {
            "text/plain": [
              "array(['Client, The (1994)', 'Life with Mikey (1993)', 'Promesse, La (1996)', 'Event Horizon (1997)',\n",
              "       'North by Northwest (1959)', 'Stalingrad (1993)', 'Liebelei (1933)', 'Star Maps (1997)',\n",
              "       'Savage Nights (Nuits fauves, Les) (1992)', \"Schindler's List (1993)\"], dtype=object)"
            ]
          },
          "metadata": {
            "tags": []
          },
          "execution_count": 24
        }
      ]
    },
    {
      "cell_type": "markdown",
      "metadata": {
        "id": "EPnkq44sQ8KZ",
        "colab_type": "text"
      },
      "source": [
        "#Movie bias"
      ]
    },
    {
      "cell_type": "markdown",
      "metadata": {
        "id": "5mPC1-UMhHCX",
        "colab_type": "text"
      },
      "source": [
        "The Embeddings we have learned are a low dimensional representation for users and items. They should contain some interesting features which we can extract to have better insight. \n",
        "For the given movies, we extract  biases and mean ratings in order to find out which movies are generally rated low or high (by most users). In most cases, high mean ratings correspond to high biases and vice versa.\n",
        "However, some movies with high mean rating can have a low bias. Those are probably niche movies rated by a small number of users. Thus, bias turns out to be more descriptive indicator of the phenomenon."
      ]
    },
    {
      "cell_type": "markdown",
      "metadata": {
        "id": "0CPUzCBB94PA",
        "colab_type": "text"
      },
      "source": [
        "Movie bias - a number that indicates if it is a good movie or not.\n",
        "User bias - a number that indicates if the user generally gives high ratings to movies or not.\n",
        "Bias is not necessarily needed in a neural network (you can add a column of ones in place of bias) but if we think it captures important information, we use it. "
      ]
    },
    {
      "cell_type": "code",
      "metadata": {
        "id": "iWjLreiVQ9uq",
        "colab_type": "code",
        "outputId": "6cb0d730-122b-4dca-f608-8c00b3787eed",
        "colab": {
          "base_uri": "https://localhost:8080/",
          "height": 34
        }
      },
      "source": [
        "#Get movie bias\n",
        "movie_bias = learn.bias(top_movies, is_item=True)\n",
        "movie_bias.shape"
      ],
      "execution_count": 25,
      "outputs": [
        {
          "output_type": "execute_result",
          "data": {
            "text/plain": [
              "torch.Size([70])"
            ]
          },
          "metadata": {
            "tags": []
          },
          "execution_count": 25
        }
      ]
    },
    {
      "cell_type": "code",
      "metadata": {
        "id": "hUSXDtQoQ-b7",
        "colab_type": "code",
        "colab": {}
      },
      "source": [
        "#Group titles by the mean rating\n",
        "mean_ratings = rating_movie.groupby(title)['rating'].mean()\n",
        "movie_ratings = [(b, i, mean_ratings.loc[i]) for i,b in zip(top_movies,movie_bias)]"
      ],
      "execution_count": 0,
      "outputs": []
    },
    {
      "cell_type": "code",
      "metadata": {
        "id": "RzQw-TImRBdF",
        "colab_type": "code",
        "colab": {}
      },
      "source": [
        "#Need to sort the above list by the bias values (which are at index 0)\n",
        "item0 = lambda o:o[0]"
      ],
      "execution_count": 0,
      "outputs": []
    },
    {
      "cell_type": "code",
      "metadata": {
        "id": "bBUc0inBREQD",
        "colab_type": "code",
        "outputId": "1bfd8cd5-e72c-49fd-8436-032390bdfb42",
        "colab": {
          "base_uri": "https://localhost:8080/",
          "height": 272
        }
      },
      "source": [
        "sorted(movie_ratings, key=item0)[:15]\n",
        "# Bias               Movie                   Rating"
      ],
      "execution_count": 28,
      "outputs": [
        {
          "output_type": "execute_result",
          "data": {
            "text/plain": [
              "[(tensor(-0.0599), 'Fish Called Wanda, A (1988)', 2.411111111111111),\n",
              " (tensor(-0.0357), 'Apostle, The (1997)', 2.6160714285714284),\n",
              " (tensor(-0.0323), 'Batman Returns (1992)', 2.836734693877551),\n",
              " (tensor(-0.0195), 'Clueless (1995)', 2.9545454545454546),\n",
              " (tensor(-0.0142), 'Hour of the Pig, The (1993)', 3.0980392156862746),\n",
              " (tensor(-0.0104), 'Fly Away Home (1996)', 3.189655172413793),\n",
              " (tensor(-0.0099), 'Terminal Velocity (1994)', 3.0357142857142856),\n",
              " (tensor(0.0229), 'Shadowlands (1993)', 3.0673076923076925),\n",
              " (tensor(0.0290), 'Doom Generation, The (1995)', 3.443396226415094),\n",
              " (tensor(0.0354), 'Strange Days (1995)', 3.40625),\n",
              " (tensor(0.0364), 'Hellraiser: Bloodline (1996)', 3.5636363636363635),\n",
              " (tensor(0.0377), 'Liebelei (1933)', 3.4358974358974357),\n",
              " (tensor(0.0394), 'Mouse Hunt (1997)', 3.295918367346939),\n",
              " (tensor(0.0406), 'Dumb & Dumber (1994)', 3.2708333333333335),\n",
              " (tensor(0.0548), 'Pillow Book, The (1995)', 3.380434782608696)]"
            ]
          },
          "metadata": {
            "tags": []
          },
          "execution_count": 28
        }
      ]
    },
    {
      "cell_type": "code",
      "metadata": {
        "id": "J9A_pjFtRGq2",
        "colab_type": "code",
        "outputId": "6205adf2-b5c4-4b16-8032-e40aca23c4bb",
        "colab": {
          "base_uri": "https://localhost:8080/",
          "height": 340
        }
      },
      "source": [
        "#Sort in the reverse order \n",
        "sorted(movie_ratings, key=lambda o: o[0], reverse=True)[:15]"
      ],
      "execution_count": 29,
      "outputs": [
        {
          "output_type": "execute_result",
          "data": {
            "text/plain": [
              "[(tensor(0.1863), 'When a Man Loves a Woman (1994)', 4.458333333333333),\n",
              " (tensor(0.1858), 'Promesse, La (1996)', 4.475609756097561),\n",
              " (tensor(0.1838), 'Amityville: Dollhouse (1996)', 4.484848484848484),\n",
              " (tensor(0.1714), 'Event Horizon (1997)', 4.25625),\n",
              " (tensor(0.1701), 'Don Juan DeMarco (1995)', 4.285714285714286),\n",
              " (tensor(0.1690), 'Wild Bunch, The (1969)', 3.962121212121212),\n",
              " (tensor(0.1575), 'Gandhi (1982)', 4.2890625),\n",
              " (tensor(0.1563),\n",
              "  'Savage Nights (Nuits fauves, Les) (1992)',\n",
              "  4.2727272727272725),\n",
              " (tensor(0.1548), \"Schindler's List (1993)\", 4.331081081081081),\n",
              " (tensor(0.1499), 'Guilty as Sin (1993)', 4.241666666666666),\n",
              " (tensor(0.1497), 'Spellbound (1945)', 4.1716417910447765),\n",
              " (tensor(0.1486), 'Before the Rain (Pred dozhdot) (1994)', 4.236363636363636),\n",
              " (tensor(0.1480), 'Virtuosity (1995)', 4.176056338028169),\n",
              " (tensor(0.1469), 'Family Thing, A (1996)', 4.241666666666666),\n",
              " (tensor(0.1458),\n",
              "  'In the Realm of the Senses (Ai no corrida) (1976)',\n",
              "  4.043103448275862)]"
            ]
          },
          "metadata": {
            "tags": []
          },
          "execution_count": 29
        }
      ]
    },
    {
      "cell_type": "markdown",
      "metadata": {
        "id": "WjwbN8LTVKZU",
        "colab_type": "text"
      },
      "source": [
        "The biases are high for highly rated movies. Eg. The movie Gandhi has 4.2 stars, which is pretty good, and it makes sense that it makes it to the top few results since it was an iconic film, still talked about today."
      ]
    },
    {
      "cell_type": "markdown",
      "metadata": {
        "id": "mEIvq0wwEpjv",
        "colab_type": "text"
      },
      "source": [
        "### Movie weights"
      ]
    },
    {
      "cell_type": "code",
      "metadata": {
        "id": "m4CAIo_sEpjw",
        "colab_type": "code",
        "outputId": "96143878-e029-41d2-8fe2-c943f9d9a043",
        "colab": {
          "base_uri": "https://localhost:8080/",
          "height": 34
        }
      },
      "source": [
        "#Extract weights of movies. The size of the latent factors vector is 40\n",
        "movie_w = learn.weight(top_movies, is_item=True)\n",
        "movie_w.shape"
      ],
      "execution_count": 30,
      "outputs": [
        {
          "output_type": "execute_result",
          "data": {
            "text/plain": [
              "torch.Size([70, 40])"
            ]
          },
          "metadata": {
            "tags": []
          },
          "execution_count": 30
        }
      ]
    },
    {
      "cell_type": "code",
      "metadata": {
        "id": "Y0YkSmviEpj6",
        "colab_type": "code",
        "outputId": "e75c46ee-a45e-46bf-ffff-312c9e167960",
        "colab": {
          "base_uri": "https://localhost:8080/",
          "height": 34
        }
      },
      "source": [
        "#Do PCA on the 40 dimensional vectors to reduce dimensions to 3 \n",
        "movie_pca = movie_w.pca(3)\n",
        "movie_pca.shape"
      ],
      "execution_count": 31,
      "outputs": [
        {
          "output_type": "execute_result",
          "data": {
            "text/plain": [
              "torch.Size([70, 3])"
            ]
          },
          "metadata": {
            "tags": []
          },
          "execution_count": 31
        }
      ]
    },
    {
      "cell_type": "code",
      "metadata": {
        "id": "YPwq8LXKEpj9",
        "colab_type": "code",
        "colab": {}
      },
      "source": [
        "#Grab the 3 output vectors of PCA and the movies and sort\n",
        "fac0,fac1,fac2 = movie_pca.t()\n",
        "movie_comp = [(f, i) for f,i in zip(fac0, top_movies)]"
      ],
      "execution_count": 0,
      "outputs": []
    },
    {
      "cell_type": "code",
      "metadata": {
        "id": "8Z3OzrUGEpkB",
        "colab_type": "code",
        "outputId": "5c56f7e3-1bda-4b6e-a59d-eb9eff6147bc",
        "colab": {
          "base_uri": "https://localhost:8080/",
          "height": 187
        }
      },
      "source": [
        "#Interesting feature0\n",
        "sorted(movie_comp, key=itemgetter(0), reverse=True)[:10]"
      ],
      "execution_count": 33,
      "outputs": [
        {
          "output_type": "execute_result",
          "data": {
            "text/plain": [
              "[(tensor(0.9694), 'Amityville: Dollhouse (1996)'),\n",
              " (tensor(0.9381), 'Promesse, La (1996)'),\n",
              " (tensor(0.8362), 'When a Man Loves a Woman (1994)'),\n",
              " (tensor(0.6916), \"Schindler's List (1993)\"),\n",
              " (tensor(0.6710), 'Ghosts of Mississippi (1996)'),\n",
              " (tensor(0.6398), 'Guilty as Sin (1993)'),\n",
              " (tensor(0.6367), 'Don Juan DeMarco (1995)'),\n",
              " (tensor(0.6332), 'Star Wars (1977)'),\n",
              " (tensor(0.5972), 'Spellbound (1945)'),\n",
              " (tensor(0.5960), 'Before the Rain (Pred dozhdot) (1994)')]"
            ]
          },
          "metadata": {
            "tags": []
          },
          "execution_count": 33
        }
      ]
    },
    {
      "cell_type": "code",
      "metadata": {
        "id": "s8QsVphMEpkE",
        "colab_type": "code",
        "outputId": "82287658-5960-4513-df0d-4ed5c28f843e",
        "colab": {
          "base_uri": "https://localhost:8080/",
          "height": 187
        }
      },
      "source": [
        "sorted(movie_comp, key=itemgetter(0))[:10]"
      ],
      "execution_count": 34,
      "outputs": [
        {
          "output_type": "execute_result",
          "data": {
            "text/plain": [
              "[(tensor(-1.2061), 'Fish Called Wanda, A (1988)'),\n",
              " (tensor(-0.9548), 'Apostle, The (1997)'),\n",
              " (tensor(-0.8168), 'Shadowlands (1993)'),\n",
              " (tensor(-0.7646), 'Dumb & Dumber (1994)'),\n",
              " (tensor(-0.7200), 'Batman Returns (1992)'),\n",
              " (tensor(-0.6684), 'Terminal Velocity (1994)'),\n",
              " (tensor(-0.6673), 'Clueless (1995)'),\n",
              " (tensor(-0.6465), 'Eraser (1996)'),\n",
              " (tensor(-0.5975), 'As Good As It Gets (1997)'),\n",
              " (tensor(-0.5499), 'Fly Away Home (1996)')]"
            ]
          },
          "metadata": {
            "tags": []
          },
          "execution_count": 34
        }
      ]
    },
    {
      "cell_type": "code",
      "metadata": {
        "id": "AJMofna-EpkH",
        "colab_type": "code",
        "colab": {}
      },
      "source": [
        "movie_comp = [(f, i) for f,i in zip(fac1, top_movies)]"
      ],
      "execution_count": 0,
      "outputs": []
    },
    {
      "cell_type": "code",
      "metadata": {
        "id": "Tixt2n_WEpkK",
        "colab_type": "code",
        "outputId": "64424eaf-d507-40e5-efc3-5feed9602a8c",
        "colab": {
          "base_uri": "https://localhost:8080/",
          "height": 187
        }
      },
      "source": [
        "#Interesting feature1\n",
        "sorted(movie_comp, key=itemgetter(0), reverse=True)[:10]"
      ],
      "execution_count": 36,
      "outputs": [
        {
          "output_type": "execute_result",
          "data": {
            "text/plain": [
              "[(tensor(0.5584), 'Savage Nights (Nuits fauves, Les) (1992)'),\n",
              " (tensor(0.5575), 'Event Horizon (1997)'),\n",
              " (tensor(0.4151), 'Virtuosity (1995)'),\n",
              " (tensor(0.3748), 'Purple Noon (1960)'),\n",
              " (tensor(0.3699), 'Liebelei (1933)'),\n",
              " (tensor(0.3085), 'Celtic Pride (1996)'),\n",
              " (tensor(0.2397), 'Go Fish (1994)'),\n",
              " (tensor(0.2057), 'North by Northwest (1959)'),\n",
              " (tensor(0.1764), 'Dumb & Dumber (1994)'),\n",
              " (tensor(0.1724), 'Star Trek: Generations (1994)')]"
            ]
          },
          "metadata": {
            "tags": []
          },
          "execution_count": 36
        }
      ]
    },
    {
      "cell_type": "code",
      "metadata": {
        "id": "JpJ2XitjEpkQ",
        "colab_type": "code",
        "outputId": "96052dbc-2bd6-4547-9f80-67346e27d7f2",
        "colab": {
          "base_uri": "https://localhost:8080/",
          "height": 187
        }
      },
      "source": [
        "sorted(movie_comp, key=itemgetter(0))[:10]"
      ],
      "execution_count": 37,
      "outputs": [
        {
          "output_type": "execute_result",
          "data": {
            "text/plain": [
              "[(tensor(-0.4043), 'White Squall (1996)'),\n",
              " (tensor(-0.3398), 'Amos & Andrew (1993)'),\n",
              " (tensor(-0.3146), 'Batman Returns (1992)'),\n",
              " (tensor(-0.2664), 'Spellbound (1945)'),\n",
              " (tensor(-0.2458), 'Hellraiser: Bloodline (1996)'),\n",
              " (tensor(-0.2437), 'Terminal Velocity (1994)'),\n",
              " (tensor(-0.2409), \"One Flew Over the Cuckoo's Nest (1975)\"),\n",
              " (tensor(-0.2328), 'Mortal Kombat (1995)'),\n",
              " (tensor(-0.2209), 'Hugo Pool (1997)'),\n",
              " (tensor(-0.2166), 'Star Maps (1997)')]"
            ]
          },
          "metadata": {
            "tags": []
          },
          "execution_count": 37
        }
      ]
    },
    {
      "cell_type": "code",
      "metadata": {
        "id": "LGAOjjN8EpkU",
        "colab_type": "code",
        "outputId": "46557cf6-ddea-43c1-f979-50f57aca76e2",
        "colab": {
          "base_uri": "https://localhost:8080/",
          "height": 741
        }
      },
      "source": [
        "#Plot interesting feature0 vs. interesting feature2 \n",
        "idxs = np.random.choice(len(top_movies), 50, replace=False)\n",
        "idxs = list(range(50))\n",
        "X = fac0[idxs]\n",
        "Y = fac2[idxs]\n",
        "plt.figure(figsize=(15,15))\n",
        "plt.scatter(X, Y)\n",
        "for i, x, y in zip(top_movies[idxs], X, Y):\n",
        "    plt.text(x,y,i, color=np.random.rand(3)*0.7, fontsize=11)\n",
        "    plt.ylabel('First feature')\n",
        "    plt.xlabel('Second feature')\n",
        "plt.show()"
      ],
      "execution_count": 42,
      "outputs": [
        {
          "output_type": "display_data",
          "data": {
            "image/png": "[encoded data removed]",
            "text/plain": [
              "<Figure size 1080x1080 with 1 Axes>"
            ]
          },
          "metadata": {
            "tags": []
          }
        }
      ]
    }
  ]
}