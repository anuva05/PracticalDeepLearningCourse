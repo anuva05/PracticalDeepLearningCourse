{
  "nbformat": 4,
  "nbformat_minor": 0,
  "metadata": {
    "colab": {
      "name": "setup_CPU_GPU_compare.ipynb",
      "provenance": [],
      "authorship_tag": "ABX9TyPvv9U859DmKlBQDVG43Imj",
      "include_colab_link": true
    },
    "kernelspec": {
      "name": "python3",
      "display_name": "Python 3"
    },
    "accelerator": "GPU"
  },
  "cells": [
    {
      "cell_type": "markdown",
      "metadata": {
        "id": "view-in-github",
        "colab_type": "text"
      },
      "source": [
        "<a href=\"https://colab.research.google.com/github/anuva05/PracticalDeepLearningCourse/blob/master/setup_CPU_GPU_compare.ipynb\" target=\"_parent\"><img src=\"https://colab.research.google.com/assets/colab-badge.svg\" alt=\"Open In Colab\"/></a>"
      ]
    },
    {
      "cell_type": "code",
      "metadata": {
        "id": "oMTccMZm4j2M",
        "colab_type": "code",
        "outputId": "543cec0c-3549-4784-d6cc-99528e06769f",
        "colab": {
          "base_uri": "https://localhost:8080/",
          "height": 34
        }
      },
      "source": [
        "import torch\n",
        "t_cpu = torch.rand(500,500,500)\n",
        "%timeit t_cpu @ t_cpu"
      ],
      "execution_count": 0,
      "outputs": [
        {
          "output_type": "stream",
          "text": [
            "1 loop, best of 3: 1.23 s per loop\n"
          ],
          "name": "stdout"
        }
      ]
    },
    {
      "cell_type": "markdown",
      "metadata": {
        "id": "9frLerzl4o-T",
        "colab_type": "text"
      },
      "source": [
        "Now, compare the speedup for the same operation using GPUs.\n"
      ]
    },
    {
      "cell_type": "code",
      "metadata": {
        "id": "LDfJjOwQ4u8n",
        "colab_type": "code",
        "outputId": "efac1408-cb29-4432-e71c-f4668208a829",
        "colab": {
          "base_uri": "https://localhost:8080/",
          "height": 34
        }
      },
      "source": [
        "t_gpu = torch.rand(500,500,500).cuda()\n",
        "%timeit t_gpu @ t_gpu"
      ],
      "execution_count": 0,
      "outputs": [
        {
          "output_type": "stream",
          "text": [
            "1000 loops, best of 3: 31 ms per loop\n"
          ],
          "name": "stdout"
        }
      ]
    },
    {
      "cell_type": "markdown",
      "metadata": {
        "id": "hSspwWaF5UBB",
        "colab_type": "text"
      },
      "source": [
        "The CPU required 1.23s per loop, while the GPU required only 31ms. This is a speedup by a factor of 39.\n"
      ]
    }
  ]
}