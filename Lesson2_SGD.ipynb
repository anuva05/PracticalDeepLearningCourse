{
  "nbformat": 4,
  "nbformat_minor": 0,
  "metadata": {
    "colab": {
      "name": "Lesson2-SGD.ipynb",
      "provenance": [],
      "toc_visible": true,
      "authorship_tag": "ABX9TyP561gfNy2bwgXz/G+qKYOo",
      "include_colab_link": true
    },
    "kernelspec": {
      "name": "python3",
      "display_name": "Python 3"
    }
  },
  "cells": [
    {
      "cell_type": "markdown",
      "metadata": {
        "id": "view-in-github",
        "colab_type": "text"
      },
      "source": [
        "<a href=\"https://colab.research.google.com/github/anuva05/PracticalDeepLearningCourse/blob/master/Lesson2_SGD.ipynb\" target=\"_parent\"><img src=\"https://colab.research.google.com/assets/colab-badge.svg\" alt=\"Open In Colab\"/></a>"
      ]
    },
    {
      "cell_type": "code",
      "metadata": {
        "id": "ZYQ_H-Ubr28H",
        "colab_type": "code",
        "colab": {}
      },
      "source": [
        "%matplotlib inline\n",
        "from fastai.basics import *"
      ],
      "execution_count": 0,
      "outputs": []
    },
    {
      "cell_type": "markdown",
      "metadata": {
        "id": "VGvpea-Dr4Ti",
        "colab_type": "text"
      },
      "source": [
        "In this section, let us explore Stochastic Gradient Descent (SGD), an optimization method used commonly in neural networks. "
      ]
    },
    {
      "cell_type": "markdown",
      "metadata": {
        "id": "mmSm9iDJsIyZ",
        "colab_type": "text"
      },
      "source": [
        "Linear Regression"
      ]
    },
    {
      "cell_type": "markdown",
      "metadata": {
        "id": "WYz_O9zNsMCm",
        "colab_type": "text"
      },
      "source": [
        "The goal of a linear regression problem is to fit a line to a given set of points."
      ]
    },
    {
      "cell_type": "code",
      "metadata": {
        "id": "LOLzpyVcsEis",
        "colab_type": "code",
        "colab": {
          "base_uri": "https://localhost:8080/",
          "height": 102
        },
        "outputId": "9bf76368-22e2-4b98-b42f-1d0237901cf6"
      },
      "source": [
        "n=100\n",
        "x = torch.ones(n,2)\n",
        "#generate input using uniform distribution\n",
        "x[:,0].uniform_(-1.,1)\n",
        "#display some values\n",
        "x[:5]"
      ],
      "execution_count": 2,
      "outputs": [
        {
          "output_type": "execute_result",
          "data": {
            "text/plain": [
              "tensor([[ 0.2213,  1.0000],\n",
              "        [-0.6393,  1.0000],\n",
              "        [-0.8667,  1.0000],\n",
              "        [ 0.2223,  1.0000],\n",
              "        [ 0.2681,  1.0000]])"
            ]
          },
          "metadata": {
            "tags": []
          },
          "execution_count": 2
        }
      ]
    },
    {
      "cell_type": "code",
      "metadata": {
        "id": "smihmWi6swmS",
        "colab_type": "code",
        "colab": {
          "base_uri": "https://localhost:8080/",
          "height": 34
        },
        "outputId": "73437f86-8caf-42ea-cfe9-a39a15dc89b5"
      },
      "source": [
        "a = tensor(3.,2); a"
      ],
      "execution_count": 4,
      "outputs": [
        {
          "output_type": "execute_result",
          "data": {
            "text/plain": [
              "tensor([3., 2.])"
            ]
          },
          "metadata": {
            "tags": []
          },
          "execution_count": 4
        }
      ]
    },
    {
      "cell_type": "code",
      "metadata": {
        "id": "pRUvTkDxs-8J",
        "colab_type": "code",
        "colab": {}
      },
      "source": [
        "#create data\n",
        "y = x@a + torch.rand(n)"
      ],
      "execution_count": 0,
      "outputs": []
    },
    {
      "cell_type": "code",
      "metadata": {
        "id": "UqWJ-WdAtAX2",
        "colab_type": "code",
        "colab": {
          "base_uri": "https://localhost:8080/",
          "height": 265
        },
        "outputId": "c3272ffe-9adf-413c-c8b7-bfde0b81ef24"
      },
      "source": [
        "plt.scatter(x[:,0], y);"
      ],
      "execution_count": 6,
      "outputs": [
        {
          "output_type": "display_data",
          "data": {
            "image/png": "[encoded data removed]",
            "text/plain": [
              "<Figure size 432x288 with 1 Axes>"
            ]
          },
          "metadata": {
            "tags": []
          }
        }
      ]
    },
    {
      "cell_type": "markdown",
      "metadata": {
        "id": "Xy9H1ybBtvJm",
        "colab_type": "text"
      },
      "source": [
        "You want to find parameters (weights) a such that you minimize the error between the points and the line x@a. Note that here a is unknown. For a regression problem the most common error function or loss function is the mean squared error."
      ]
    },
    {
      "cell_type": "code",
      "metadata": {
        "id": "7yX3ifeftw04",
        "colab_type": "code",
        "colab": {}
      },
      "source": [
        "def mse(y_hat, y): \n",
        "  return ((y_hat-y)**2).mean()"
      ],
      "execution_count": 0,
      "outputs": []
    },
    {
      "cell_type": "markdown",
      "metadata": {
        "id": "ZKP3h2Byt9hj",
        "colab_type": "text"
      },
      "source": [
        "Suppose we believe `a = (-1.0,1.0)` then we can compute `y_hat` which is our *prediction* and then compute our error."
      ]
    },
    {
      "cell_type": "code",
      "metadata": {
        "id": "5kuT6qe6t8da",
        "colab_type": "code",
        "colab": {}
      },
      "source": [
        "a = tensor(-1.,1)"
      ],
      "execution_count": 0,
      "outputs": []
    },
    {
      "cell_type": "code",
      "metadata": {
        "id": "B7p4EBo-uBOu",
        "colab_type": "code",
        "colab": {
          "base_uri": "https://localhost:8080/",
          "height": 34
        },
        "outputId": "b93aa183-39eb-4bb1-aecd-a0f18ef2d8e8"
      },
      "source": [
        "y_hat = x@a\n",
        "mse(y_hat, y)"
      ],
      "execution_count": 9,
      "outputs": [
        {
          "output_type": "execute_result",
          "data": {
            "text/plain": [
              "tensor(7.7778)"
            ]
          },
          "metadata": {
            "tags": []
          },
          "execution_count": 9
        }
      ]
    },
    {
      "cell_type": "code",
      "metadata": {
        "id": "_bMeCT7duDxM",
        "colab_type": "code",
        "colab": {
          "base_uri": "https://localhost:8080/",
          "height": 265
        },
        "outputId": "27c7c1a6-57e3-4283-b8c4-b8e0e1440e80"
      },
      "source": [
        "plt.scatter(x[:,0],y)\n",
        "plt.scatter(x[:,0],y_hat);"
      ],
      "execution_count": 10,
      "outputs": [
        {
          "output_type": "display_data",
          "data": {
            "image/png": "[encoded data removed]",
            "text/plain": [
              "<Figure size 432x288 with 1 Axes>"
            ]
          },
          "metadata": {
            "tags": []
          }
        }
      ]
    },
    {
      "cell_type": "markdown",
      "metadata": {
        "id": "A9tgrrZdwx5w",
        "colab_type": "text"
      },
      "source": [
        "So far we have specified the *model* (linear regression) and the *evaluation criteria* (or *loss function*). Now we need to handle *optimization*; that is, how do we find the best values for `a`? How do we find the best *fitting* linear regression - this is where SGD comes in."
      ]
    },
    {
      "cell_type": "markdown",
      "metadata": {
        "id": "LmDSBeb3xGTL",
        "colab_type": "text"
      },
      "source": [
        "# Stochastic Gradient Descent"
      ]
    },
    {
      "cell_type": "markdown",
      "metadata": {
        "id": "G05k4JQzxMG5",
        "colab_type": "text"
      },
      "source": [
        "We would like to find the values of a that minimize mse_loss.\n",
        "\n",
        "Gradient descent is an algorithm that minimizes functions. Given a function defined by a set of parameters, gradient descent starts with an initial set of parameter values and iteratively moves toward a set of parameter values that minimize the function. This iterative minimization is achieved by taking steps in the negative direction of the function gradient.\n",
        "\n",
        "Here is gradient descent implemented in PyTorch."
      ]
    },
    {
      "cell_type": "code",
      "metadata": {
        "id": "xMKpvmQBxS7p",
        "colab_type": "code",
        "colab": {
          "base_uri": "https://localhost:8080/",
          "height": 51
        },
        "outputId": "f0a8a892-1541-4128-d85e-e727344f301e"
      },
      "source": [
        "a = nn.Parameter(a); a"
      ],
      "execution_count": 28,
      "outputs": [
        {
          "output_type": "execute_result",
          "data": {
            "text/plain": [
              "Parameter containing:\n",
              "tensor([-1.,  1.], requires_grad=True)"
            ]
          },
          "metadata": {
            "tags": []
          },
          "execution_count": 28
        }
      ]
    },
    {
      "cell_type": "code",
      "metadata": {
        "id": "bKv0XaFOxXkC",
        "colab_type": "code",
        "colab": {}
      },
      "source": [
        "def update():\n",
        "    y_hat = x@a\n",
        "    loss = mse(y, y_hat)\n",
        "    if t % 10 == 0: print(loss)\n",
        "    loss.backward()\n",
        "    with torch.no_grad():\n",
        "        a.sub_(lr * a.grad)\n",
        "        a.grad.zero_()"
      ],
      "execution_count": 0,
      "outputs": []
    },
    {
      "cell_type": "code",
      "metadata": {
        "id": "BgY1to4-xbEg",
        "colab_type": "code",
        "colab": {
          "base_uri": "https://localhost:8080/",
          "height": 187
        },
        "outputId": "3302e6d4-dcf1-4f1d-eba5-abebd7a19c46"
      },
      "source": [
        "lr = 1e-1\n",
        "for t in range(100): update()"
      ],
      "execution_count": 30,
      "outputs": [
        {
          "output_type": "stream",
          "text": [
            "tensor(7.7778, grad_fn=<MeanBackward0>)\n",
            "tensor(1.3621, grad_fn=<MeanBackward0>)\n",
            "tensor(0.3519, grad_fn=<MeanBackward0>)\n",
            "tensor(0.1327, grad_fn=<MeanBackward0>)\n",
            "tensor(0.0842, grad_fn=<MeanBackward0>)\n",
            "tensor(0.0734, grad_fn=<MeanBackward0>)\n",
            "tensor(0.0711, grad_fn=<MeanBackward0>)\n",
            "tensor(0.0705, grad_fn=<MeanBackward0>)\n",
            "tensor(0.0704, grad_fn=<MeanBackward0>)\n",
            "tensor(0.0704, grad_fn=<MeanBackward0>)\n"
          ],
          "name": "stdout"
        }
      ]
    },
    {
      "cell_type": "code",
      "metadata": {
        "id": "aSn7rSQgxrhC",
        "colab_type": "code",
        "colab": {
          "base_uri": "https://localhost:8080/",
          "height": 51
        },
        "outputId": "7c9cdad6-4195-43ee-d865-23769bfcb3a8"
      },
      "source": [
        "#Print the parameter 'a' after optimization \n",
        "a"
      ],
      "execution_count": 31,
      "outputs": [
        {
          "output_type": "execute_result",
          "data": {
            "text/plain": [
              "Parameter containing:\n",
              "tensor([2.9308, 2.5140], requires_grad=True)"
            ]
          },
          "metadata": {
            "tags": []
          },
          "execution_count": 31
        }
      ]
    },
    {
      "cell_type": "code",
      "metadata": {
        "id": "e-y_BwD2x7z4",
        "colab_type": "code",
        "colab": {
          "base_uri": "https://localhost:8080/",
          "height": 265
        },
        "outputId": "fe64f5da-930c-4bd0-de65-9a6f425deb9c"
      },
      "source": [
        "plt.scatter(x[:,0],y)\n",
        "#to enable plotting, temporarily exclude a from computation graph\n",
        "a.requires_grad=False\n",
        "plt.scatter(x[:,0],x@a);\n"
      ],
      "execution_count": 32,
      "outputs": [
        {
          "output_type": "display_data",
          "data": {
            "image/png": "[encoded data removed]",
            "text/plain": [
              "<Figure size 432x288 with 1 Axes>"
            ]
          },
          "metadata": {
            "tags": []
          }
        }
      ]
    },
    {
      "cell_type": "markdown",
      "metadata": {
        "id": "ZSI5yVuO0XaL",
        "colab_type": "text"
      },
      "source": [
        "The fitted line now represents our data quite well."
      ]
    }
  ]
}